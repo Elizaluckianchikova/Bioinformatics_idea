{
  "nbformat": 4,
  "nbformat_minor": 0,
  "metadata": {
    "colab": {
      "provenance": [],
      "authorship_tag": "ABX9TyOcuwHc/k0gP5g1i/ia+FQy",
      "include_colab_link": true
    },
    "kernelspec": {
      "name": "python3",
      "display_name": "Python 3"
    },
    "language_info": {
      "name": "python"
    }
  },
  "cells": [
    {
      "cell_type": "markdown",
      "metadata": {
        "id": "view-in-github",
        "colab_type": "text"
      },
      "source": [
        "<a href=\"https://colab.research.google.com/github/Elizaluckianchikova/Bioinformatics_idea/blob/main/AlgBio__Cas9.ipynb\" target=\"_parent\"><img src=\"https://colab.research.google.com/assets/colab-badge.svg\" alt=\"Open In Colab\"/></a>"
      ]
    },
    {
      "cell_type": "markdown",
      "source": [
        "**Задача**\n",
        "\n",
        "Напиши программу для обнаружения вырезанных фрагментов Cas9 и гидовой РНК с отладкой и фильтрацией для полноценного анализа.\n",
        "\n",
        "В этом коде функция detect_cas9_cuts принимает последовательность ДНК и сайт разреза Cas9 в качестве аргументов. Она проходит по последовательности и ищет совпадения с сайтом разреза. Если совпадение найдено, позиция разреза добавляется в список cuts.\n",
        "\n",
        "Вы можете изменить значение переменных data и cut_site для тестирования программы на других последовательностях ДНК и сайтах разреза Cas9.\n",
        "Для проведения полноценного анализа и отладки алгоритма обнаружения вырезанных фрагментов Cas9, можно добавить дополнительные шаги, такие как фильтрация результатов, проверка наличия PAM сайта и проверка соседних последовательностей для подтверждения разреза. В этом обновленном коде добавлены проверки наличия PAM сайта и соседних последовательностей для более надежного обнаружения вырезанных фрагментов Cas9. Вы можете настроить параметры (например, длину соседних последовательностей) и добавить другие проверки в соответствии с вашими требованиями.\n",
        "\n",
        "Этот код поможет вам провести более детальный анализ и отладку алгоритма обнаружения вырезанных фрагментов Cas9."
      ],
      "metadata": {
        "id": "_GkTfNY0Ld58"
      }
    },
    {
      "cell_type": "code",
      "execution_count": null,
      "metadata": {
        "colab": {
          "base_uri": "https://localhost:8080/"
        },
        "id": "ljhYprzXAQEv",
        "outputId": "00ed4280-8f8d-49ae-91b2-003ef084cc33"
      },
      "outputs": [
        {
          "output_type": "stream",
          "name": "stdout",
          "text": [
            "Введите последовательность: ATGCTAGCTAGCTAGCTAGCTAGCTAG\n",
            "No Cas9 cuts detected in the sequence.\n",
            "Вы ввели:  ATGCTAGCTAGCTAGCTAGCTAGCTAG\n"
          ]
        }
      ],
      "source": [
        "def detect_cas9_cuts(sequence, cut_site):\n",
        "    cuts = []\n",
        "    pam_site = \"NGG\"  # PAM сайт для Cas9\n",
        "    for i in range(len(sequence) - len(cut_site) + 1):\n",
        "        if sequence[i:i+len(cut_site)] == cut_site:\n",
        "            if sequence[i+len(cut_site):i+len(cut_site)+len(pam_site)] == pam_site:\n",
        "                # Проверка наличия PAM сайта\n",
        "                # Добавьте другие проверки, если необходимо\n",
        "\n",
        "                # Проверка соседних последовательностей\n",
        "                left_neighbor = sequence[i-10:i]\n",
        "                right_neighbor = sequence[i+len(cut_site)+len(pam_site):i+len(cut_site)+len(pam_site)+10]\n",
        "                if \"N\" not in left_neighbor and \"N\" not in right_neighbor:\n",
        "                    cuts.append(i)\n",
        "    return cuts\n",
        "\n",
        "data = input (\"Введите последовательность: \")\n",
        "cut_site = \"CTAG\"\n",
        "\n",
        "cuts = detect_cas9_cuts( data, cut_site)\n",
        "\n",
        "if len(cuts) > 0:\n",
        "    print(\"Cas9 cuts detected at positions:\", cuts)\n",
        "else:\n",
        "    print(\"No Cas9 cuts detected in the sequence.\")\n",
        "print(\"Вы ввели: \", data)"
      ]
    }
  ]
}