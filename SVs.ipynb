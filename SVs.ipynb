{
  "nbformat": 4,
  "nbformat_minor": 0,
  "metadata": {
    "colab": {
      "provenance": [],
      "authorship_tag": "ABX9TyPuRCNcaBin9Twuown6225k",
      "include_colab_link": true
    },
    "kernelspec": {
      "name": "python3",
      "display_name": "Python 3"
    },
    "language_info": {
      "name": "python"
    }
  },
  "cells": [
    {
      "cell_type": "markdown",
      "metadata": {
        "id": "view-in-github",
        "colab_type": "text"
      },
      "source": [
        "<a href=\"https://colab.research.google.com/github/Elizaluckianchikova/Bioinformatics_idea/blob/main/SVs.ipynb\" target=\"_parent\"><img src=\"https://colab.research.google.com/assets/colab-badge.svg\" alt=\"Open In Colab\"/></a>"
      ]
    },
    {
      "cell_type": "markdown",
      "source": [
        "\n",
        "**Структурные варианты (SVs)** - это изменения в структуре ДНК, которые могут повлиять на экспрессию генов и привести к различным заболеваниям или изменениям в фенотипе. Они могут возникать из-за мутаций в генах, хромосомах или других генетических последовательностях. SVs могут быть обнаружены с помощью различных методов, включая секвенирование ДНК, микрочипирование и анализ экспрессии генов.\n",
        "Для байесовской классификации в анализе структурных вариантов (SVs) можно использовать алгоритмы машинного обучения, такие как наивный байесовский классификатор. В данном случае, для классификации структурных вариантов на основе данных из BAM файла, можно использовать признаки, такие как длина вставки, глубина покрытия, распределение качества считывания и другие характеристики SV. Задача: создать байесовский классификатор для идентификации структурных вариантов (SVs).\n",
        "\n",
        "Процесс байесовской классификации структурных вариантов может быть следующим:\n",
        "1. Извлечение признаков из BAM файла с помощью инструментов для анализа структурных вариантов.\n",
        "2. Подготовка данных для обучения модели, включая разделение данных на обучающий и тестовый наборы.\n",
        "3. Обучение наивного байесовского классификатора на обучающем наборе данных.\n",
        "4. Оценка производительности модели на тестовом наборе данных, используя метрики, такие как точность, полнота, F1-мера и т. д.\n",
        "5. Применение обученной модели для классификации структурных вариантов из входного BAM файла."
      ],
      "metadata": {
        "id": "VHDXPDaTpoHp"
      }
    },
    {
      "cell_type": "code",
      "execution_count": null,
      "metadata": {
        "id": "U8XKLl3eArlk",
        "outputId": "ed68f925-7a88-40b4-8493-489658faf10c",
        "colab": {
          "base_uri": "https://localhost:8080/",
          "height": 383
        }
      },
      "outputs": [
        {
          "output_type": "error",
          "ename": "ModuleNotFoundError",
          "evalue": "No module named 'pysam'",
          "traceback": [
            "\u001b[0;31m---------------------------------------------------------------------------\u001b[0m",
            "\u001b[0;31mModuleNotFoundError\u001b[0m                       Traceback (most recent call last)",
            "\u001b[0;32m<ipython-input-1-aa94d7ff1f42>\u001b[0m in \u001b[0;36m<cell line: 1>\u001b[0;34m()\u001b[0m\n\u001b[0;32m----> 1\u001b[0;31m \u001b[0;32mimport\u001b[0m \u001b[0mpysam\u001b[0m\u001b[0;34m\u001b[0m\u001b[0;34m\u001b[0m\u001b[0m\n\u001b[0m\u001b[1;32m      2\u001b[0m \u001b[0;32mimport\u001b[0m \u001b[0mnumpy\u001b[0m \u001b[0;32mas\u001b[0m \u001b[0mnp\u001b[0m\u001b[0;34m\u001b[0m\u001b[0;34m\u001b[0m\u001b[0m\n\u001b[1;32m      3\u001b[0m \u001b[0;32mfrom\u001b[0m \u001b[0msklearn\u001b[0m\u001b[0;34m.\u001b[0m\u001b[0mmodel_selection\u001b[0m \u001b[0;32mimport\u001b[0m \u001b[0mtrain_test_split\u001b[0m\u001b[0;34m\u001b[0m\u001b[0;34m\u001b[0m\u001b[0m\n\u001b[1;32m      4\u001b[0m \u001b[0;32mfrom\u001b[0m \u001b[0msklearn\u001b[0m\u001b[0;34m.\u001b[0m\u001b[0mnaive_bayes\u001b[0m \u001b[0;32mimport\u001b[0m \u001b[0mGaussianNB\u001b[0m\u001b[0;34m\u001b[0m\u001b[0;34m\u001b[0m\u001b[0m\n\u001b[1;32m      5\u001b[0m \u001b[0;32mfrom\u001b[0m \u001b[0msklearn\u001b[0m\u001b[0;34m.\u001b[0m\u001b[0mmetrics\u001b[0m \u001b[0;32mimport\u001b[0m \u001b[0maccuracy_score\u001b[0m\u001b[0;34m,\u001b[0m \u001b[0mprecision_score\u001b[0m\u001b[0;34m,\u001b[0m \u001b[0mrecall_score\u001b[0m\u001b[0;34m,\u001b[0m \u001b[0mf1_score\u001b[0m\u001b[0;34m\u001b[0m\u001b[0;34m\u001b[0m\u001b[0m\n",
            "\u001b[0;31mModuleNotFoundError\u001b[0m: No module named 'pysam'",
            "",
            "\u001b[0;31m---------------------------------------------------------------------------\u001b[0;32m\nNOTE: If your import is failing due to a missing package, you can\nmanually install dependencies using either !pip or !apt.\n\nTo view examples of installing some common dependencies, click the\n\"Open Examples\" button below.\n\u001b[0;31m---------------------------------------------------------------------------\u001b[0m\n"
          ],
          "errorDetails": {
            "actions": [
              {
                "action": "open_url",
                "actionText": "Open Examples",
                "url": "/notebooks/snippets/importing_libraries.ipynb"
              }
            ]
          }
        }
      ],
      "source": [
        "import pysam\n",
        "import numpy as np\n",
        "from sklearn.model_selection import train_test_split\n",
        "from sklearn.naive_bayes import GaussianNB\n",
        "from sklearn.metrics import accuracy_score, precision_score, recall_score, f1_score\n",
        "\n",
        "# Извлечение признаков из BAM файла\n",
        "def extract_features_from_bam(bam_file):\n",
        "    features = []\n",
        "\n",
        "    with pysam.AlignmentFile(bam_file, \"rb\") as bam:\n",
        "        for read in bam:\n",
        "            # Извлечение признаков из каждого рида (например, длина вставки, глубина покрытия и т.д.)\n",
        "            feature = [len(read.seq), read.mapping_quality]\n",
        "            features.append(feature)\n",
        "\n",
        "    return np.array(features)\n",
        "\n",
        "# Подготовка данных для обучения модели\n",
        "bam_file = \"your_input.bam\"\n",
        "X = extract_features_from_bam(bam_file)\n",
        "y = np.random.randint(2, size=X.shape[0])  # Генерация случайных меток классов для примера\n",
        "\n",
        "# Разделение данных на обучающий и тестовый наборы\n",
        "X_train, X_test, y_train, y_test = train_test_split(X, y, test_size=0.2, random_state=42)\n",
        "\n",
        "# Обучение наивного байесовского классификатора\n",
        "nb_classifier = GaussianNB()\n",
        "nb_classifier.fit(X_train, y_train)\n",
        "\n",
        "# Прогнозирование классов для тестового набора данных\n",
        "y_pred = nb_classifier.predict(X_test)\n",
        "\n",
        "# Оценка производительности модели\n",
        "accuracy = accuracy_score(y_test, y_pred)\n",
        "precision = precision_score(y_test, y_pred)\n",
        "recall = recall_score(y_test, y_pred)\n",
        "f1 = f1_score(y_test, y_pred)\n",
        "\n",
        "print(\"Accuracy:\", accuracy)\n",
        "print(\"Precision:\", precision)\n",
        "print(\"Recall:\", recall)\n",
        "print(\"F1 Score:\", f1)\n"
      ]
    }
  ]
}